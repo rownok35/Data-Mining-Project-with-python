{
 "cells": [
  {
   "cell_type": "markdown",
   "metadata": {},
   "source": [
    "**Importing Libraries** \n"
   ]
  },
  {
   "cell_type": "code",
   "execution_count": 88,
   "metadata": {},
   "outputs": [],
   "source": [
    "import pandas as pd\n",
    "import matplotlib.pyplot as plt\n",
    "import numpy as np\n",
    "import datetime as dt\n",
    "from sklearn.linear_model import LinearRegression\n",
    "from sklearn.preprocessing import PolynomialFeatures\n",
    "from sklearn.metrics import r2_score\n",
    "from sklearn.model_selection import train_test_split"
   ]
  },
  {
   "cell_type": "markdown",
   "metadata": {},
   "source": [
    "**Loading dataset and data preprocessing**"
   ]
  },
  {
   "cell_type": "code",
   "execution_count": 89,
   "metadata": {},
   "outputs": [],
   "source": [
    "dataset = pd.read_csv(\"owid-covid-data.csv\")"
   ]
  },
  {
   "cell_type": "code",
   "execution_count": 90,
   "metadata": {},
   "outputs": [],
   "source": [
    "dataset_2months=dataset.loc[(dataset['location']=='Bangladesh') & (dataset['date']>='2020-04-01') & (dataset['date']<='2020-05-31')]\n",
    "dataset_BD_allmonths=dataset.loc[(dataset['location']=='Bangladesh')]"
   ]
  },
  {
   "cell_type": "code",
   "execution_count": 92,
   "metadata": {},
   "outputs": [],
   "source": [
    "dataset_2months=dataset_2months[['date','total_cases','new_cases','total_deaths']]\n",
    "dataset_BD_allmonths=dataset_BD_allmonths[['date','total_cases','new_cases','total_deaths']]"
   ]
  },
  {
   "cell_type": "code",
   "execution_count": 93,
   "metadata": {},
   "outputs": [
    {
     "data": {
      "text/plain": [
       "date            0\n",
       "total_cases     0\n",
       "new_cases       0\n",
       "total_deaths    0\n",
       "dtype: int64"
      ]
     },
     "execution_count": 93,
     "metadata": {},
     "output_type": "execute_result"
    }
   ],
   "source": [
    "dataset_2months.isnull().sum() #NO null value found in month of April and May in Bangladesh location "
   ]
  },
  {
   "cell_type": "code",
   "execution_count": 94,
   "metadata": {},
   "outputs": [
    {
     "data": {
      "text/plain": [
       "date             0\n",
       "total_cases     11\n",
       "new_cases       11\n",
       "total_deaths    11\n",
       "dtype: int64"
      ]
     },
     "execution_count": 94,
     "metadata": {},
     "output_type": "execute_result"
    }
   ],
   "source": [
    "dataset_BD_allmonths.isnull().sum() #11 null value found "
   ]
  },
  {
   "cell_type": "code",
   "execution_count": 95,
   "metadata": {},
   "outputs": [
    {
     "data": {
      "text/plain": [
       "date            0\n",
       "total_cases     0\n",
       "new_cases       0\n",
       "total_deaths    0\n",
       "dtype: int64"
      ]
     },
     "execution_count": 95,
     "metadata": {},
     "output_type": "execute_result"
    }
   ],
   "source": [
    "dataset_BD_allmonths = dataset_BD_allmonths.dropna(inplace=False)\n",
    "dataset_BD_allmonths.isnull().sum()"
   ]
  },
  {
   "cell_type": "code",
   "execution_count": 96,
   "metadata": {
    "scrolled": true
   },
   "outputs": [
    {
     "data": {
      "text/html": [
       "<div>\n",
       "<style scoped>\n",
       "    .dataframe tbody tr th:only-of-type {\n",
       "        vertical-align: middle;\n",
       "    }\n",
       "\n",
       "    .dataframe tbody tr th {\n",
       "        vertical-align: top;\n",
       "    }\n",
       "\n",
       "    .dataframe thead th {\n",
       "        text-align: right;\n",
       "    }\n",
       "</style>\n",
       "<table border=\"1\" class=\"dataframe\">\n",
       "  <thead>\n",
       "    <tr style=\"text-align: right;\">\n",
       "      <th></th>\n",
       "      <th>date</th>\n",
       "      <th>total_cases</th>\n",
       "      <th>new_cases</th>\n",
       "      <th>total_deaths</th>\n",
       "      <th>equvalent_date</th>\n",
       "    </tr>\n",
       "  </thead>\n",
       "  <tbody>\n",
       "    <tr>\n",
       "      <th>3374</th>\n",
       "      <td>2020-04-01</td>\n",
       "      <td>51.0</td>\n",
       "      <td>2.0</td>\n",
       "      <td>5.0</td>\n",
       "      <td>737516</td>\n",
       "    </tr>\n",
       "    <tr>\n",
       "      <th>3375</th>\n",
       "      <td>2020-04-02</td>\n",
       "      <td>54.0</td>\n",
       "      <td>3.0</td>\n",
       "      <td>6.0</td>\n",
       "      <td>737517</td>\n",
       "    </tr>\n",
       "    <tr>\n",
       "      <th>3376</th>\n",
       "      <td>2020-04-03</td>\n",
       "      <td>56.0</td>\n",
       "      <td>2.0</td>\n",
       "      <td>6.0</td>\n",
       "      <td>737518</td>\n",
       "    </tr>\n",
       "    <tr>\n",
       "      <th>3377</th>\n",
       "      <td>2020-04-04</td>\n",
       "      <td>61.0</td>\n",
       "      <td>5.0</td>\n",
       "      <td>6.0</td>\n",
       "      <td>737519</td>\n",
       "    </tr>\n",
       "    <tr>\n",
       "      <th>3378</th>\n",
       "      <td>2020-04-05</td>\n",
       "      <td>70.0</td>\n",
       "      <td>9.0</td>\n",
       "      <td>8.0</td>\n",
       "      <td>737520</td>\n",
       "    </tr>\n",
       "    <tr>\n",
       "      <th>...</th>\n",
       "      <td>...</td>\n",
       "      <td>...</td>\n",
       "      <td>...</td>\n",
       "      <td>...</td>\n",
       "      <td>...</td>\n",
       "    </tr>\n",
       "    <tr>\n",
       "      <th>3430</th>\n",
       "      <td>2020-05-27</td>\n",
       "      <td>36751.0</td>\n",
       "      <td>1166.0</td>\n",
       "      <td>522.0</td>\n",
       "      <td>737572</td>\n",
       "    </tr>\n",
       "    <tr>\n",
       "      <th>3431</th>\n",
       "      <td>2020-05-28</td>\n",
       "      <td>38292.0</td>\n",
       "      <td>1541.0</td>\n",
       "      <td>544.0</td>\n",
       "      <td>737573</td>\n",
       "    </tr>\n",
       "    <tr>\n",
       "      <th>3432</th>\n",
       "      <td>2020-05-29</td>\n",
       "      <td>40321.0</td>\n",
       "      <td>2029.0</td>\n",
       "      <td>559.0</td>\n",
       "      <td>737574</td>\n",
       "    </tr>\n",
       "    <tr>\n",
       "      <th>3433</th>\n",
       "      <td>2020-05-30</td>\n",
       "      <td>42844.0</td>\n",
       "      <td>2523.0</td>\n",
       "      <td>582.0</td>\n",
       "      <td>737575</td>\n",
       "    </tr>\n",
       "    <tr>\n",
       "      <th>3434</th>\n",
       "      <td>2020-05-31</td>\n",
       "      <td>44608.0</td>\n",
       "      <td>1764.0</td>\n",
       "      <td>610.0</td>\n",
       "      <td>737576</td>\n",
       "    </tr>\n",
       "  </tbody>\n",
       "</table>\n",
       "<p>61 rows × 5 columns</p>\n",
       "</div>"
      ],
      "text/plain": [
       "            date  total_cases  new_cases  total_deaths  equvalent_date\n",
       "3374  2020-04-01         51.0        2.0           5.0          737516\n",
       "3375  2020-04-02         54.0        3.0           6.0          737517\n",
       "3376  2020-04-03         56.0        2.0           6.0          737518\n",
       "3377  2020-04-04         61.0        5.0           6.0          737519\n",
       "3378  2020-04-05         70.0        9.0           8.0          737520\n",
       "...          ...          ...        ...           ...             ...\n",
       "3430  2020-05-27      36751.0     1166.0         522.0          737572\n",
       "3431  2020-05-28      38292.0     1541.0         544.0          737573\n",
       "3432  2020-05-29      40321.0     2029.0         559.0          737574\n",
       "3433  2020-05-30      42844.0     2523.0         582.0          737575\n",
       "3434  2020-05-31      44608.0     1764.0         610.0          737576\n",
       "\n",
       "[61 rows x 5 columns]"
      ]
     },
     "execution_count": 96,
     "metadata": {},
     "output_type": "execute_result"
    }
   ],
   "source": [
    "dataset_2months['equvalent_date'] = pd.to_datetime(dataset_2months['date'])\n",
    "dataset_2months['equvalent_date']= dataset_2months['equvalent_date'].map(dt.datetime.toordinal)\n",
    "dataset_2months"
   ]
  },
  {
   "cell_type": "markdown",
   "metadata": {},
   "source": [
    "**Creating and executing regression models**"
   ]
  },
  {
   "cell_type": "code",
   "execution_count": 108,
   "metadata": {},
   "outputs": [],
   "source": [
    "X = dataset_2months.iloc[:, 4].values\n",
    "Y_total_case = dataset_2months.iloc[:, 1:2].values\n",
    "Y_new_case = dataset_2months.iloc[:, 2:3].values\n",
    "Y_total_deaths = dataset_2months.iloc[:, 3:4].values"
   ]
  },
  {
   "cell_type": "code",
   "execution_count": 109,
   "metadata": {},
   "outputs": [],
   "source": [
    "X=X.reshape(-1,1)"
   ]
  },
  {
   "cell_type": "code",
   "execution_count": 114,
   "metadata": {},
   "outputs": [],
   "source": [
    "X_train_total_case, X_test_total_case, Y_train_total_case, Y_test_total_case = train_test_split(X, Y_total_case, test_size=0.2)\n",
    "X_train_new_case, X_test_new_case, Y_train_new_case, Y_test_new_case = train_test_split(X, Y_new_case, test_size=0.2)\n",
    "X_train_total_deaths, X_test_total_deaths, Y_train_total_deaths, Y_test_total_deaths = train_test_split(X, Y_total_deaths, test_size=0.2)"
   ]
  },
  {
   "cell_type": "markdown",
   "metadata": {},
   "source": [
    "**Model for Date and Total Case**"
   ]
  },
  {
   "cell_type": "code",
   "execution_count": 115,
   "metadata": {},
   "outputs": [
    {
     "data": {
      "text/plain": [
       "LinearRegression(copy_X=True, fit_intercept=True, n_jobs=None, normalize=False)"
      ]
     },
     "execution_count": 115,
     "metadata": {},
     "output_type": "execute_result"
    }
   ],
   "source": [
    "model_total_case_deg1 = PolynomialFeatures(degree = 1)\n",
    "X_fit1 = model_total_case_deg1.fit_transform(X_train_total_case)\n",
    "model_total_case_deg1.fit(X_fit1, Y_train_total_case)\n",
    "lin_model_total_case_deg1 = LinearRegression()\n",
    "lin_model_total_case_deg1.fit(X_fit1, Y_train_total_case)\n",
    "\n",
    "model_total_case_deg2 = PolynomialFeatures(degree = 2)\n",
    "X_fit1 = model_total_case_deg2.fit_transform(X_train_total_case)\n",
    "model_total_case_deg2.fit(X_fit1, Y_train_total_case)\n",
    "lin_model_total_case_deg2 = LinearRegression()\n",
    "lin_model_total_case_deg2.fit(X_fit1, Y_train_total_case)\n",
    "\n",
    "model_total_case_deg3 = PolynomialFeatures(degree = 3)\n",
    "X_fit1 = model_total_case_deg3.fit_transform(X_train_total_case)\n",
    "model_total_case_deg3.fit(X_fit1, Y_train_total_case)\n",
    "lin_model_total_case_deg3 = LinearRegression()\n",
    "lin_model_total_case_deg3.fit(X_fit1, Y_train_total_case)\n",
    "\n",
    "model_total_case_deg4 = PolynomialFeatures(degree = 4)\n",
    "X_fit1 = model_total_case_deg4.fit_transform(X_train_total_case)\n",
    "model_total_case_deg4.fit(X_fit1, Y_train_total_case)\n",
    "lin_model_total_case_deg4 = LinearRegression()\n",
    "lin_model_total_case_deg4.fit(X_fit1, Y_train_total_case)"
   ]
  },
  {
   "cell_type": "code",
   "execution_count": 116,
   "metadata": {},
   "outputs": [
    {
     "name": "stdout",
     "output_type": "stream",
     "text": [
      "R^2 value for Total case when degree is 1 : 0.8533457879914024\n",
      "R^2 value for Total case when degree is 2 : 0.9962240622137427\n",
      "R^2 value for Total case when degree is 3 : 0.996224170070835\n",
      "R^2 value for Total case when degree is 4 : 0.9962247447705459\n"
     ]
    }
   ],
   "source": [
    "print(f'R^2 value for Total case when degree is 1 : {r2_score(Y_test_total_case,lin_model_total_case_deg1.predict(model_total_case_deg1.fit_transform(X_test_total_case)))}')\n",
    "print(f'R^2 value for Total case when degree is 2 : {r2_score(Y_test_total_case,lin_model_total_case_deg2.predict(model_total_case_deg2.fit_transform(X_test_total_case)))}')\n",
    "print(f'R^2 value for Total case when degree is 3 : {r2_score(Y_test_total_case,lin_model_total_case_deg3.predict(model_total_case_deg3.fit_transform(X_test_total_case)))}')\n",
    "print(f'R^2 value for Total case when degree is 4 : {r2_score(Y_test_total_case,lin_model_total_case_deg4.predict(model_total_case_deg4.fit_transform(X_test_total_case)))}')"
   ]
  },
  {
   "cell_type": "markdown",
   "metadata": {},
   "source": [
    "**Model for Date and new Case**"
   ]
  },
  {
   "cell_type": "code",
   "execution_count": 117,
   "metadata": {},
   "outputs": [
    {
     "data": {
      "text/plain": [
       "LinearRegression(copy_X=True, fit_intercept=True, n_jobs=None, normalize=False)"
      ]
     },
     "execution_count": 117,
     "metadata": {},
     "output_type": "execute_result"
    }
   ],
   "source": [
    "model_new_case_deg1 = PolynomialFeatures(degree = 1)\n",
    "X_fit1 = model_new_case_deg1.fit_transform(X_train_new_case)\n",
    "model_new_case_deg1.fit(X_fit1, Y_train_new_case)\n",
    "lin_model_new_case_deg1 = LinearRegression()\n",
    "lin_model_new_case_deg1.fit(X_fit1, Y_train_new_case)\n",
    "\n",
    "\n",
    "model_new_case_deg2 = PolynomialFeatures(degree = 2)\n",
    "X_fit1 = model_new_case_deg2.fit_transform(X_train_new_case)\n",
    "model_new_case_deg2.fit(X_fit1, Y_train_new_case)\n",
    "lin_model_new_case_deg2 = LinearRegression()\n",
    "lin_model_new_case_deg2.fit(X_fit1, Y_train_new_case)\n",
    "\n",
    "model_new_case_deg3 = PolynomialFeatures(degree = 3)\n",
    "X_fit1 = model_new_case_deg3.fit_transform(X_train_new_case)\n",
    "model_new_case_deg3.fit(X_fit1, Y_train_new_case)\n",
    "lin_model_new_case_deg3 = LinearRegression()\n",
    "lin_model_new_case_deg3.fit(X_fit1, Y_train_new_case)\n",
    "\n",
    "model_new_case_deg4 = PolynomialFeatures(degree = 4)\n",
    "X_fit1 = model_new_case_deg4.fit_transform(X_train_new_case)\n",
    "model_new_case_deg4.fit(X_fit1, Y_new_case)\n",
    "lin_model_new_case_deg4 = LinearRegression()\n",
    "lin_model_new_case_deg4.fit(X_fit1, Y_train_new_case)"
   ]
  },
  {
   "cell_type": "code",
   "execution_count": 118,
   "metadata": {},
   "outputs": [
    {
     "name": "stdout",
     "output_type": "stream",
     "text": [
      "R^2 value for new cases when degree is 1 : 0.8232170988413099\n",
      "R^2 value for new cases when degree is 2 : 0.8899256776506765\n",
      "R^2 value for new cases when degree is 3 : 0.8899261968004584\n",
      "R^2 value for new cases when degree is 4 : 0.8899267616884468\n"
     ]
    }
   ],
   "source": [
    "print(f'R^2 value for new cases when degree is 1 : {r2_score(Y_test_new_case,lin_model_new_case_deg1.predict(model_new_case_deg1.fit_transform(X_test_new_case)))}')\n",
    "print(f'R^2 value for new cases when degree is 2 : {r2_score(Y_test_new_case,lin_model_new_case_deg2.predict(model_new_case_deg2.fit_transform(X_test_new_case)))}')\n",
    "print(f'R^2 value for new cases when degree is 3 : {r2_score(Y_test_new_case,lin_model_new_case_deg3.predict(model_new_case_deg3.fit_transform(X_test_new_case)))}')\n",
    "print(f'R^2 value for new cases when degree is 4 : {r2_score(Y_test_new_case,lin_model_new_case_deg4.predict(model_new_case_deg4.fit_transform(X_test_new_case)))}')"
   ]
  },
  {
   "cell_type": "markdown",
   "metadata": {},
   "source": [
    "**Model for Date and Total Deaths**"
   ]
  },
  {
   "cell_type": "code",
   "execution_count": 104,
   "metadata": {},
   "outputs": [
    {
     "data": {
      "text/plain": [
       "LinearRegression(copy_X=True, fit_intercept=True, n_jobs=None, normalize=False)"
      ]
     },
     "execution_count": 104,
     "metadata": {},
     "output_type": "execute_result"
    }
   ],
   "source": [
    "model_total_deaths_deg1 = PolynomialFeatures(degree = 1)\n",
    "X_fit1 = model_total_deaths_deg1.fit_transform(X_train_total_deaths)\n",
    "model_total_deaths_deg1.fit(X_fit1, Y_train_total_deaths)\n",
    "lin_model_total_deaths_deg1 = LinearRegression()\n",
    "lin_model_total_deaths_deg1.fit(X_fit1, Y_train_total_deaths)\n",
    "\n",
    "model_total_deaths_deg2 = PolynomialFeatures(degree = 2)\n",
    "X_fit1 = model_total_deaths_deg2.fit_transform(X_train_total_deaths)\n",
    "model_total_deaths_deg2.fit(X_fit1, Y_train_total_deaths)\n",
    "lin_model_total_deaths_deg2 = LinearRegression()\n",
    "lin_model_total_deaths_deg2.fit(X_fit1, Y_train_total_deaths)\n",
    "\n",
    "model_total_deaths_deg3 = PolynomialFeatures(degree = 3)\n",
    "X_fit1 = model_total_deaths_deg3.fit_transform(X_train_total_deaths)\n",
    "model_total_deaths_deg3.fit(X_fit1, Y_train_total_deaths)\n",
    "lin_model_total_deaths_deg3 = LinearRegression()\n",
    "lin_model_total_deaths_deg3.fit(X_fit1, Y_train_total_deaths)\n",
    "\n",
    "\n",
    "model_total_deaths_deg4 = PolynomialFeatures(degree = 4)\n",
    "X_fit1 = model_total_deaths_deg4.fit_transform(X_train_total_deaths)\n",
    "model_total_deaths_deg4.fit(X_fit1, Y_train_total_deaths)\n",
    "lin_model_total_deaths_deg4 = LinearRegression()\n",
    "lin_model_total_deaths_deg4.fit(X_fit1, Y_train_total_deaths)"
   ]
  },
  {
   "cell_type": "code",
   "execution_count": 105,
   "metadata": {},
   "outputs": [
    {
     "name": "stdout",
     "output_type": "stream",
     "text": [
      "R^2 value for total deaths when degree is 1 : 0.9132187934946833\n",
      "R^2 value for total deaths when degree is 2 : 0.9842252238531886\n",
      "R^2 value for total deaths when degree is 3 : 0.984225828963247\n",
      "R^2 value for total deaths when degree is 4 : 0.9842264585085924\n"
     ]
    }
   ],
   "source": [
    "print(f'R^2 value for total deaths when degree is 1 : {r2_score(Y_test_total_deaths,lin_model_total_deaths_deg1.predict(model_total_deaths_deg1.fit_transform(X_test_total_deaths)))}')\n",
    "print(f'R^2 value for total deaths when degree is 2 : {r2_score(Y_test_total_deaths,lin_model_total_deaths_deg2.predict(model_total_deaths_deg2.fit_transform(X_test_total_deaths)))}')\n",
    "print(f'R^2 value for total deaths when degree is 3 : {r2_score(Y_test_total_deaths,lin_model_total_deaths_deg3.predict(model_total_deaths_deg3.fit_transform(X_test_total_deaths)))}')\n",
    "print(f'R^2 value for total deaths when degree is 4 : {r2_score(Y_test_total_deaths,lin_model_total_deaths_deg4.predict(model_total_deaths_deg4.fit_transform(X_test_total_deaths)))}')"
   ]
  },
  {
   "cell_type": "markdown",
   "metadata": {},
   "source": [
    "**User Defined Function**"
   ]
  },
  {
   "cell_type": "code",
   "execution_count": 106,
   "metadata": {},
   "outputs": [],
   "source": [
    "def Corona_ML(date):\n",
    "    index=dataset_BD_allmonths[dataset_BD_allmonths['date']==date].index.values\n",
    "    print(f\"in date {date}\")\n",
    "    if len(index)>0:\n",
    "        print(\"Actual values:\")\n",
    "        print()\n",
    "        print(\"total case :\",int(dataset_BD_allmonths.loc[index]['total_cases']))\n",
    "        print(\"new cases :\",int(dataset_BD_allmonths.loc[index]['new_cases']))\n",
    "        print(\"total deaths :\",int(dataset_BD_allmonths.loc[index]['total_deaths']))\n",
    "    else:\n",
    "        print(\"Actual values are not available in the dataset for this date\")\n",
    "\n",
    "    Date = pd.to_datetime([date])\n",
    "    Date=Date.map(dt.datetime.toordinal)\n",
    "    print()\n",
    "    print(\"predited values:\") #using degree 2\n",
    "    print()\n",
    "    print(\"total case :\",int(lin_model_total_case_deg2.predict(model_total_case_deg2.fit_transform([Date]))))\n",
    "    print(\"new case :\",int(lin_model_new_case_deg2.predict(model_new_case_deg2.fit_transform([Date]))))\n",
    "    print(\"total deaths :\",int(lin_model_total_deaths_deg2.predict(model_total_deaths_deg2.fit_transform([Date]))))\n",
    "    \n",
    "    "
   ]
  },
  {
   "cell_type": "code",
   "execution_count": 107,
   "metadata": {},
   "outputs": [
    {
     "name": "stdout",
     "output_type": "stream",
     "text": [
      "in date 2020-04-30\n",
      "Actual values:\n",
      "\n",
      "total case : 7103\n",
      "new cases : 641\n",
      "total deaths : 163\n",
      "\n",
      "predited values:\n",
      "\n",
      "total case : 6663\n",
      "new case : 566\n",
      "total deaths : 142\n"
     ]
    }
   ],
   "source": [
    "Corona_ML('2020-04-30')"
   ]
  },
  {
   "cell_type": "markdown",
   "metadata": {},
   "source": [
    "**Answering questions**"
   ]
  },
  {
   "cell_type": "markdown",
   "metadata": {},
   "source": [
    "Q1: What would be consequence of taking lower value of N in the regression model?"
   ]
  },
  {
   "cell_type": "markdown",
   "metadata": {},
   "source": [
    "Answer: Taking lower value of N will result in lower value of r-square(r^2), that means the accuracy of the model will be less. Time complexity also will be less. There is no probability of having overfitting and the model won't touch every data point."
   ]
  },
  {
   "cell_type": "markdown",
   "metadata": {},
   "source": [
    "Q2: What would be consequence of taking higher value of N in the regression model?"
   ]
  },
  {
   "cell_type": "markdown",
   "metadata": {},
   "source": [
    "Answer: Taking higher value of N will result in higher value of r-square(r^2), that means the accuracy of the model will be better. Time complexity will also be more. There is a probability of having overfitting because it may fit noisy data."
   ]
  }
 ],
 "metadata": {
  "kernelspec": {
   "display_name": "Python 3",
   "language": "python",
   "name": "python3"
  },
  "language_info": {
   "codemirror_mode": {
    "name": "ipython",
    "version": 3
   },
   "file_extension": ".py",
   "mimetype": "text/x-python",
   "name": "python",
   "nbconvert_exporter": "python",
   "pygments_lexer": "ipython3",
   "version": "3.7.6"
  }
 },
 "nbformat": 4,
 "nbformat_minor": 4
}
