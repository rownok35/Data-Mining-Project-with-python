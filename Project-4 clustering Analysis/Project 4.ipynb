{
 "cells": [
  {
   "cell_type": "markdown",
   "metadata": {},
   "source": [
    "### import libraries"
   ]
  },
  {
   "cell_type": "code",
   "execution_count": 22,
   "metadata": {},
   "outputs": [],
   "source": [
    "import numpy as np\n",
    "import pandas as pd\n",
    "import matplotlib.pyplot as plt"
   ]
  },
  {
   "cell_type": "markdown",
   "metadata": {},
   "source": [
    "### creating dataset"
   ]
  },
  {
   "cell_type": "code",
   "execution_count": 31,
   "metadata": {},
   "outputs": [
    {
     "data": {
      "image/png": "[encoded data removed]",
      "text/plain": [
       "<Figure size 432x288 with 1 Axes>"
      ]
     },
     "metadata": {
      "needs_background": "light"
     },
     "output_type": "display_data"
    }
   ],
   "source": [
    "cluster_center1 = (50, 50)\n",
    "cluster_center2 = (85, 35)\n",
    "cluster_center3 = (68, 15)\n",
    "points_distance = 8\n",
    "\n",
    "\n",
    "cx1 = np.random.uniform(cluster_center1[0], cluster_center1[0] + points_distance, size=(150,))\n",
    "cy1 = np.random.normal(cluster_center1[1], points_distance, size=(150,)) \n",
    "\n",
    "cx2 = np.random.uniform(cluster_center2[0], cluster_center2[0] + points_distance, size=(150,))\n",
    "cy2 = np.random.normal(cluster_center2[1], points_distance, size=(150,)) \n",
    "\n",
    "cx3 = np.random.uniform(cluster_center3[0], cluster_center3[0] + points_distance, size=(150,))\n",
    "cy3 = np.random.normal(cluster_center3[1], points_distance, size=(150,))\n",
    "\n",
    "subset1=pd.DataFrame({'X': cx1, 'Y': cy1})\n",
    "subset2=pd.DataFrame({'X': cx2, 'Y': cy2})\n",
    "subset3=pd.DataFrame({'X': cx3, 'Y': cy3})\n",
    "df = pd.concat([subset1,subset2,subset3])\n",
    "plt.scatter(df['X'], df['Y'])\n",
    "plt.show()"
   ]
  },
  {
   "cell_type": "markdown",
   "metadata": {},
   "source": [
    "## k-means algorithm"
   ]
  },
  {
   "cell_type": "code",
   "execution_count": 32,
   "metadata": {},
   "outputs": [],
   "source": [
    "def KNN(df, number_of_clusters):\n",
    "    data_cp1 = df.copy()\n",
    "    clusters_1 = np.zeros(len(data_cp1))\n",
    "    current_centroids = data_cp1.sample(n=number_of_clusters)  # taking random 3 centroids\n",
    "    current_centroids.reset_index(drop=True, inplace=True)  # resetting selected centroid indices\n",
    "    # Initializing old centroids as the size of centroids and the initial value is 0\n",
    "    previous_centroids = pd.DataFrame(np.zeros(shape=(number_of_clusters, data_cp1.shape[1])),\n",
    "                                      columns=data_cp1.columns)\n",
    "\n",
    "    # it will iterate untill the previous_centroids is equal to the current_centroids\n",
    "\n",
    "    while not previous_centroids.equals(current_centroids):\n",
    "\n",
    "        previous_centroids = current_centroids.copy(deep=True)\n",
    "\n",
    "        # calculating distance for every datapoint\n",
    "        ##          expectation part      ##\n",
    "\n",
    "\n",
    "        for point_index in range(0, len(data_cp1)):\n",
    "            distance_from_current_point = list()\n",
    "            point = data_cp1.iloc[point_index]\n",
    "\n",
    "            # calculating distance of the current point from the centroids and assign the shortest distance in clusters_1\n",
    "            for centroid_index in range(0, len(current_centroids)):\n",
    "                centroid = current_centroids.iloc[centroid_index]\n",
    "\n",
    "                distance_from_current_point.append(np.linalg.norm(point - centroid))\n",
    "\n",
    "            clusters_1[point_index] = np.argmin(distance_from_current_point)\n",
    "\n",
    "        # Computing the new centroid (mean) of each cluster.\n",
    "        ##              maximization  part                ##\n",
    "        for indx in range(0, number_of_clusters):\n",
    "\n",
    "            cluster_indx = np.where(clusters_1 == indx)[0]\n",
    "\n",
    "            if len(cluster_indx) > 0:\n",
    "                current_centroids.loc[indx] = data_cp1.iloc[cluster_indx].mean()\n",
    "\n",
    "            else:\n",
    "                current_centroids.loc[indx] = previous_centroids.loc[indx]\n",
    "\n",
    "\n",
    "    return clusters_1, current_centroids"
   ]
  },
  {
   "cell_type": "code",
   "execution_count": 33,
   "metadata": {},
   "outputs": [],
   "source": [
    "num_cluster=3\n",
    "df['pred_label'],centroid_coordinate=KNN(df,num_cluster)"
   ]
  },
  {
   "cell_type": "code",
   "execution_count": 34,
   "metadata": {},
   "outputs": [
    {
     "data": {
      "text/html": [
       "<div>\n",
       "<style scoped>\n",
       "    .dataframe tbody tr th:only-of-type {\n",
       "        vertical-align: middle;\n",
       "    }\n",
       "\n",
       "    .dataframe tbody tr th {\n",
       "        vertical-align: top;\n",
       "    }\n",
       "\n",
       "    .dataframe thead th {\n",
       "        text-align: right;\n",
       "    }\n",
       "</style>\n",
       "<table border=\"1\" class=\"dataframe\">\n",
       "  <thead>\n",
       "    <tr style=\"text-align: right;\">\n",
       "      <th></th>\n",
       "      <th>X</th>\n",
       "      <th>Y</th>\n",
       "      <th>pred_label</th>\n",
       "    </tr>\n",
       "  </thead>\n",
       "  <tbody>\n",
       "    <tr>\n",
       "      <th>0</th>\n",
       "      <td>53.024108</td>\n",
       "      <td>45.682353</td>\n",
       "      <td>1.0</td>\n",
       "    </tr>\n",
       "    <tr>\n",
       "      <th>1</th>\n",
       "      <td>53.848667</td>\n",
       "      <td>54.358469</td>\n",
       "      <td>1.0</td>\n",
       "    </tr>\n",
       "    <tr>\n",
       "      <th>2</th>\n",
       "      <td>56.373888</td>\n",
       "      <td>47.493198</td>\n",
       "      <td>1.0</td>\n",
       "    </tr>\n",
       "    <tr>\n",
       "      <th>3</th>\n",
       "      <td>51.816541</td>\n",
       "      <td>41.503964</td>\n",
       "      <td>1.0</td>\n",
       "    </tr>\n",
       "    <tr>\n",
       "      <th>4</th>\n",
       "      <td>51.609293</td>\n",
       "      <td>54.745453</td>\n",
       "      <td>1.0</td>\n",
       "    </tr>\n",
       "    <tr>\n",
       "      <th>...</th>\n",
       "      <td>...</td>\n",
       "      <td>...</td>\n",
       "      <td>...</td>\n",
       "    </tr>\n",
       "    <tr>\n",
       "      <th>145</th>\n",
       "      <td>75.256185</td>\n",
       "      <td>20.533175</td>\n",
       "      <td>0.0</td>\n",
       "    </tr>\n",
       "    <tr>\n",
       "      <th>146</th>\n",
       "      <td>75.964560</td>\n",
       "      <td>11.290507</td>\n",
       "      <td>0.0</td>\n",
       "    </tr>\n",
       "    <tr>\n",
       "      <th>147</th>\n",
       "      <td>74.403437</td>\n",
       "      <td>12.833102</td>\n",
       "      <td>0.0</td>\n",
       "    </tr>\n",
       "    <tr>\n",
       "      <th>148</th>\n",
       "      <td>75.679218</td>\n",
       "      <td>28.436639</td>\n",
       "      <td>2.0</td>\n",
       "    </tr>\n",
       "    <tr>\n",
       "      <th>149</th>\n",
       "      <td>75.554593</td>\n",
       "      <td>24.852122</td>\n",
       "      <td>0.0</td>\n",
       "    </tr>\n",
       "  </tbody>\n",
       "</table>\n",
       "<p>450 rows × 3 columns</p>\n",
       "</div>"
      ],
      "text/plain": [
       "             X          Y  pred_label\n",
       "0    53.024108  45.682353         1.0\n",
       "1    53.848667  54.358469         1.0\n",
       "2    56.373888  47.493198         1.0\n",
       "3    51.816541  41.503964         1.0\n",
       "4    51.609293  54.745453         1.0\n",
       "..         ...        ...         ...\n",
       "145  75.256185  20.533175         0.0\n",
       "146  75.964560  11.290507         0.0\n",
       "147  74.403437  12.833102         0.0\n",
       "148  75.679218  28.436639         2.0\n",
       "149  75.554593  24.852122         0.0\n",
       "\n",
       "[450 rows x 3 columns]"
      ]
     },
     "execution_count": 34,
     "metadata": {},
     "output_type": "execute_result"
    }
   ],
   "source": [
    "df"
   ]
  },
  {
   "cell_type": "code",
   "execution_count": 35,
   "metadata": {},
   "outputs": [
    {
     "data": {
      "text/html": [
       "<div>\n",
       "<style scoped>\n",
       "    .dataframe tbody tr th:only-of-type {\n",
       "        vertical-align: middle;\n",
       "    }\n",
       "\n",
       "    .dataframe tbody tr th {\n",
       "        vertical-align: top;\n",
       "    }\n",
       "\n",
       "    .dataframe thead th {\n",
       "        text-align: right;\n",
       "    }\n",
       "</style>\n",
       "<table border=\"1\" class=\"dataframe\">\n",
       "  <thead>\n",
       "    <tr style=\"text-align: right;\">\n",
       "      <th></th>\n",
       "      <th>X</th>\n",
       "      <th>Y</th>\n",
       "    </tr>\n",
       "  </thead>\n",
       "  <tbody>\n",
       "    <tr>\n",
       "      <th>0</th>\n",
       "      <td>72.396086</td>\n",
       "      <td>15.240027</td>\n",
       "    </tr>\n",
       "    <tr>\n",
       "      <th>1</th>\n",
       "      <td>53.843995</td>\n",
       "      <td>49.445165</td>\n",
       "    </tr>\n",
       "    <tr>\n",
       "      <th>2</th>\n",
       "      <td>87.922589</td>\n",
       "      <td>34.060982</td>\n",
       "    </tr>\n",
       "  </tbody>\n",
       "</table>\n",
       "</div>"
      ],
      "text/plain": [
       "           X          Y\n",
       "0  72.396086  15.240027\n",
       "1  53.843995  49.445165\n",
       "2  87.922589  34.060982"
      ]
     },
     "execution_count": 35,
     "metadata": {},
     "output_type": "execute_result"
    }
   ],
   "source": [
    "centroid_coordinate"
   ]
  },
  {
   "cell_type": "markdown",
   "metadata": {},
   "source": [
    "### printing estimating location"
   ]
  },
  {
   "cell_type": "code",
   "execution_count": 40,
   "metadata": {},
   "outputs": [
    {
     "data": {
      "image/png": "[encoded data removed]",
      "text/plain": [
       "<Figure size 432x288 with 1 Axes>"
      ]
     },
     "metadata": {
      "needs_background": "light"
     },
     "output_type": "display_data"
    }
   ],
   "source": [
    "plt.title('Predicted centroid locations', fontsize=22) \n",
    "plt.scatter(df['X'], df['Y'],c=df['pred_label'])\n",
    "\n",
    "plt.scatter(centroid_coordinate['X'], centroid_coordinate['Y'],c='orange')\n",
    "plt.show()"
   ]
  }
 ],
 "metadata": {
  "kernelspec": {
   "display_name": "Python 3",
   "language": "python",
   "name": "python3"
  },
  "language_info": {
   "codemirror_mode": {
    "name": "ipython",
    "version": 3
   },
   "file_extension": ".py",
   "mimetype": "text/x-python",
   "name": "python",
   "nbconvert_exporter": "python",
   "pygments_lexer": "ipython3",
   "version": "3.7.6"
  }
 },
 "nbformat": 4,
 "nbformat_minor": 4
}
